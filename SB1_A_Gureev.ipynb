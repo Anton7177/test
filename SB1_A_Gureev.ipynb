{
 "cells": [
  {
   "cell_type": "markdown",
   "id": "0626d745",
   "metadata": {},
   "source": [
    "Таблица представлена следующими полями:\n",
    "1) key\n",
    "2) id\n",
    "3) phone\n",
    "4) mail\n",
    "\n",
    "Тестовые данные:\n",
    "\n",
    "1;12345;89997776655; test@mail.ru\n",
    "2;54321;87778885566; two@mail.ru\n",
    "3;98765; 87776664577;three@mail\n",
    "4; 66678;87778885566; four@mail.ru\n",
    "5; 34567; 84547895566; four@mail.ru\n",
    "6; 34567; 89087545678; five@mail.ru\n",
    "\n",
    "На основании заданного поля (это может быть id, phone, mail) получить все \"связанные данные\"\n",
    "\n",
    "Например:\n",
    "если задать поиск по условию phone = 87778885566;\n",
    "\n",
    "Результат должен быть следующим:\n",
    "\n",
    "2;54321;87778885566; two@mail.ru\n",
    "4; 66678;87778885566; four@mail.ru\n",
    "5; 34567; 84547895566; four@mail.ru\n",
    "6; 34567; 89087545678; five@mail.ru\n"
   ]
  },
  {
   "cell_type": "code",
   "execution_count": 1,
   "id": "c661caff",
   "metadata": {},
   "outputs": [],
   "source": [
    "import numpy as np\n",
    "import pandas as pd\n",
    "import random\n",
    "import string"
   ]
  },
  {
   "cell_type": "code",
   "execution_count": 2,
   "id": "a8279e99",
   "metadata": {},
   "outputs": [],
   "source": [
    "# Сгенерируем 10'000 данных\n",
    "\n",
    "all_keys = np.arange(1, 10001)\n",
    "all_id = np.arange(12345, 98765)\n",
    "all_phones = np.arange(87778880000, 87778885567)    \n",
    "n = 10000 "
   ]
  },
  {
   "cell_type": "code",
   "execution_count": 3,
   "id": "0f4baf7f",
   "metadata": {},
   "outputs": [],
   "source": [
    "# Рандомайзер для email\n",
    "def random_char(char_num):\n",
    "       return ''.join(random.choice(string.ascii_letters) for _ in range(char_num))\n",
    "n=0\n",
    "all_mails=[]\n",
    "while n < 10000:\n",
    "    all_mails.append(random_char(4)+\"@gmail.com\")\n",
    "    n+=1"
   ]
  },
  {
   "cell_type": "code",
   "execution_count": 4,
   "id": "b5cb8938",
   "metadata": {},
   "outputs": [],
   "source": [
    "ids = np.random.choice(all_id, n)\n",
    "phones = np.random.choice(all_phones, n)\n",
    "all_mails = np.random.choice(all_mails, n)"
   ]
  },
  {
   "cell_type": "code",
   "execution_count": 5,
   "id": "e179fa9f",
   "metadata": {},
   "outputs": [],
   "source": [
    "# И запишем данные в датафрейм\n",
    "\n",
    "big_data = pd.DataFrame({'key': all_keys,\n",
    "                         'id': ids,\n",
    "                         'phone': phones,\n",
    "                         'mail': all_mails})"
   ]
  },
  {
   "cell_type": "code",
   "execution_count": 6,
   "id": "a90bd599",
   "metadata": {},
   "outputs": [
    {
     "data": {
      "text/html": [
       "<div>\n",
       "<style scoped>\n",
       "    .dataframe tbody tr th:only-of-type {\n",
       "        vertical-align: middle;\n",
       "    }\n",
       "\n",
       "    .dataframe tbody tr th {\n",
       "        vertical-align: top;\n",
       "    }\n",
       "\n",
       "    .dataframe thead th {\n",
       "        text-align: right;\n",
       "    }\n",
       "</style>\n",
       "<table border=\"1\" class=\"dataframe\">\n",
       "  <thead>\n",
       "    <tr style=\"text-align: right;\">\n",
       "      <th></th>\n",
       "      <th>key</th>\n",
       "      <th>id</th>\n",
       "      <th>phone</th>\n",
       "      <th>mail</th>\n",
       "    </tr>\n",
       "  </thead>\n",
       "  <tbody>\n",
       "    <tr>\n",
       "      <th>0</th>\n",
       "      <td>1</td>\n",
       "      <td>57819</td>\n",
       "      <td>87778884800</td>\n",
       "      <td>szOQ@gmail.com</td>\n",
       "    </tr>\n",
       "    <tr>\n",
       "      <th>1</th>\n",
       "      <td>2</td>\n",
       "      <td>83851</td>\n",
       "      <td>87778885320</td>\n",
       "      <td>zSbY@gmail.com</td>\n",
       "    </tr>\n",
       "    <tr>\n",
       "      <th>2</th>\n",
       "      <td>3</td>\n",
       "      <td>18762</td>\n",
       "      <td>87778882516</td>\n",
       "      <td>eTfi@gmail.com</td>\n",
       "    </tr>\n",
       "    <tr>\n",
       "      <th>3</th>\n",
       "      <td>4</td>\n",
       "      <td>23242</td>\n",
       "      <td>87778881623</td>\n",
       "      <td>rSal@gmail.com</td>\n",
       "    </tr>\n",
       "    <tr>\n",
       "      <th>4</th>\n",
       "      <td>5</td>\n",
       "      <td>59777</td>\n",
       "      <td>87778885512</td>\n",
       "      <td>mbah@gmail.com</td>\n",
       "    </tr>\n",
       "  </tbody>\n",
       "</table>\n",
       "</div>"
      ],
      "text/plain": [
       "   key     id        phone            mail\n",
       "0    1  57819  87778884800  szOQ@gmail.com\n",
       "1    2  83851  87778885320  zSbY@gmail.com\n",
       "2    3  18762  87778882516  eTfi@gmail.com\n",
       "3    4  23242  87778881623  rSal@gmail.com\n",
       "4    5  59777  87778885512  mbah@gmail.com"
      ]
     },
     "execution_count": 6,
     "metadata": {},
     "output_type": "execute_result"
    }
   ],
   "source": [
    "big_data.head()"
   ]
  },
  {
   "cell_type": "code",
   "execution_count": 7,
   "id": "cbe46627",
   "metadata": {},
   "outputs": [],
   "source": [
    "def data_to_search(data):\n",
    "    print('Введите запрос формата <поле> = <значение>. Пример: phone = 87778885566\\n')\n",
    "    search = input('Что ищем? ')\n",
    "    \n",
    "    # Чистим запрос. Strip - удаляем пробелы в начале и конце, если они есть\n",
    "    # Split - делим по пробелам, первое слово - колонка, последнее - значение\n",
    "    search = search.strip().split(' ')\n",
    "    \n",
    "    column_raw = search[0]\n",
    "    value = search[-1] # Тк берем 1 элемент с конца, будет работать и для запросов без '=', например 'phone 87778885568'\n",
    "\n",
    "    # Уберем кавычки или скобки, если пользователь их ввел    \n",
    "    column = ''.join(filter(str.isalpha, column_raw))\n",
    "    \n",
    "    if column not in ['key', 'id', 'phone', 'mail']:\n",
    "        print(f'''\\nПоле {column} не найдено. Поиск доступен для полей: key, id, phone, mail''')\n",
    "        return None\n",
    "    \n",
    "    # Обработаем исключение, если пользователь искал текст (имейл) - код не упадет из-за ошибки преобразования текста в int\n",
    "    if column != 'mail':\n",
    "        try:\n",
    "            value = int(value)\n",
    "        except ValueError:\n",
    "            print(f'''\\nДля поля {column} допустимы только числа.\n",
    "                  \\nЗначение {value} не распознано.''')\n",
    "            return None\n",
    "    \n",
    "    result = data.query(\"{0} == @value\".format(column))\n",
    "    print(f'\\nДля поля {column} по запросу {value} найдено {result.shape[0]} записей')\n",
    "    return result"
   ]
  },
  {
   "cell_type": "code",
   "execution_count": 8,
   "id": "86994b18",
   "metadata": {},
   "outputs": [],
   "source": [
    "def write_data(investigation):\n",
    "    if investigation is not None:   \n",
    "        print(investigation) # Добавить head если данных ожидается МНОГО\n",
    "\n",
    "        # Запишем данные в csv. По ТЗ разделитель ';'. Дропнем индексы и хедеры\n",
    "        data = investigation.to_csv('i_found.csv', sep=';', index=False, header=False)\n",
    "\n",
    "    else:\n",
    "        print('Данные не были записаны. Проверьте запрос')"
   ]
  },
  {
   "cell_type": "code",
   "execution_count": 9,
   "id": "16984e19",
   "metadata": {},
   "outputs": [
    {
     "name": "stdout",
     "output_type": "stream",
     "text": [
      "Введите запрос формата <поле> = <значение>. Пример: phone = 87778885566\n",
      "\n",
      "Что ищем? phone = 87778885566\n",
      "\n",
      "Для поля phone по запросу 87778885566 найдено 1 записей\n"
     ]
    }
   ],
   "source": [
    "# Вызовем функцию и запишем результат в переменную\n",
    "# Тестовые запросы:\n",
    "# phone = 87778885568\n",
    "# mail = test@mail.ru\n",
    "\n",
    "big_investigation = data_to_search(big_data)"
   ]
  },
  {
   "cell_type": "code",
   "execution_count": 10,
   "id": "4b0f2be9",
   "metadata": {},
   "outputs": [],
   "source": [
    "# При желании можно поработать с вводом пользователя на вопрос опечаток,\n",
    "# но это выходит за рамки задания"
   ]
  },
  {
   "cell_type": "markdown",
   "id": "c533332e",
   "metadata": {},
   "source": [
    "# Поиск связанных данных"
   ]
  },
  {
   "cell_type": "code",
   "execution_count": 11,
   "id": "2355911e",
   "metadata": {},
   "outputs": [],
   "source": [
    "# Функция объединения df по одной колонке (column)\n",
    "\n",
    "def merge_column(big_data, current_data, column):\n",
    "    output = big_data.merge(current_data, on=column, how='inner', suffixes=('', '_y'))\n",
    "    output.drop(output.filter(regex='_y$').columns, axis=1, inplace=True) # Чистим лишние колонки если появятся col_x и col_y\n",
    "    output.drop_duplicates(inplace=True)\n",
    "    return output"
   ]
  },
  {
   "cell_type": "code",
   "execution_count": 12,
   "id": "e85ad96b",
   "metadata": {},
   "outputs": [],
   "source": [
    "# Функция объединения df по всем колонкам с использованием merge_column()\n",
    "\n",
    "def all_bounded_data(big_data, investigation):\n",
    "    old_length = investigation.shape[0] # Запишем размер начального df\n",
    "    added_data = 1 # Поставим счетчик для прогона первого цикла\n",
    "    \n",
    "    # Выполняем цикл while пока добавляются новые данные по любой из колонок\n",
    "    while added_data > 0:\n",
    "        \n",
    "        # Пройдем первый раз по всем колонкам        \n",
    "        for column in ['id', 'phone', 'mail']:\n",
    "            investigation = merge_column(big_data, investigation, column) # Данные добавятся при совпадении по любой колонке\n",
    "            investigation.drop_duplicates(inplace=True) \n",
    "                \n",
    "        added_data = investigation.shape[0] - old_length # Посчитаем кол-во добавленных строчек. Если 0 - цикл остановится, в другом случае будет выполнен следующий прогон по всем колонкам\n",
    "        old_length = investigation.shape[0] # Перезадаем длину предыдущей таблицы для подсчета в след цикле\n",
    "    \n",
    "    return investigation # После всех циклов возвращается финальный результат со всеми связанными данными"
   ]
  },
  {
   "cell_type": "code",
   "execution_count": 13,
   "id": "3e3c772f",
   "metadata": {},
   "outputs": [
    {
     "name": "stdout",
     "output_type": "stream",
     "text": [
      "         key     id        phone            mail\n",
      "0          1  57819  87778884800  szOQ@gmail.com\n",
      "3       7132  46896  87778882733  szOQ@gmail.com\n",
      "6       7398  23163  87778880400  szOQ@gmail.com\n",
      "9          2  83851  87778885320  zSbY@gmail.com\n",
      "12      5589  70519  87778881505  zSbY@gmail.com\n",
      "...      ...    ...          ...             ...\n",
      "17380   9977  26249  87778880713  LPZJ@gmail.com\n",
      "17381   9985  20785  87778880771  NhIQ@gmail.com\n",
      "17382   9995  21891  87778881737  jljY@gmail.com\n",
      "17383   9997  72594  87778881808  tvCo@gmail.com\n",
      "17384  10000  12639  87778880365  unMq@gmail.com\n",
      "\n",
      "[8185 rows x 4 columns]\n"
     ]
    }
   ],
   "source": [
    "awesome_result_big_data = all_bounded_data(big_data, big_investigation)\n",
    "\n",
    "write_data(awesome_result_big_data)"
   ]
  },
  {
   "cell_type": "markdown",
   "id": "ba3f3398",
   "metadata": {},
   "source": [
    "# Проверка по условиям задания"
   ]
  },
  {
   "cell_type": "code",
   "execution_count": 14,
   "id": "defe07c0",
   "metadata": {},
   "outputs": [],
   "source": [
    "# Проверка на данных из задания\n",
    "\n",
    "small_data = {'key': [1, 2, 3, 4, 5, 6],\n",
    "      'id': [12345, 54321, 98765, 66678, 34567, 34567],\n",
    "      'phone': [89997776655, 87778885566, 87776664577,\n",
    "               87778885566, 87778885566, 89087545678],\n",
    "      'mail': ['test@mail.ru', 'two@mail.ru', 'three@mail',\n",
    "               'four@mail.ru', 'four@mail.ru', 'five@mail.ru']}\n",
    "small_data = pd.DataFrame(data=small_data, index=[1, 2, 3, 4, 5, 6])"
   ]
  },
  {
   "cell_type": "code",
   "execution_count": 15,
   "id": "9724c9b8",
   "metadata": {},
   "outputs": [
    {
     "name": "stdout",
     "output_type": "stream",
     "text": [
      "Введите запрос формата <поле> = <значение>. Пример: phone = 87778885566\n",
      "\n",
      "Что ищем? phone = 87778885566\n",
      "\n",
      "Для поля phone по запросу 87778885566 найдено 3 записей\n",
      "   key     id        phone          mail\n",
      "2    2  54321  87778885566   two@mail.ru\n",
      "4    4  66678  87778885566  four@mail.ru\n",
      "5    5  34567  87778885566  four@mail.ru\n"
     ]
    }
   ],
   "source": [
    "small_investigation = data_to_search(small_data)\n",
    "write_data(small_investigation)"
   ]
  },
  {
   "cell_type": "code",
   "execution_count": 16,
   "id": "0cbd063c",
   "metadata": {},
   "outputs": [
    {
     "name": "stdout",
     "output_type": "stream",
     "text": [
      "   key     id        phone          mail\n",
      "0    2  54321  87778885566   two@mail.ru\n",
      "1    4  66678  87778885566  four@mail.ru\n",
      "3    5  34567  87778885566  four@mail.ru\n",
      "5    6  34567  89087545678  five@mail.ru\n"
     ]
    }
   ],
   "source": [
    "# Например: если задать поиск по условию phone = 87778885566;\n",
    "\n",
    "# Для small_data результат должен быть следующим:\n",
    "# 2;54321;87778885566; two@mail.ru\n",
    "# 4; 66678;87778885566; four@mail.ru\n",
    "# 5; 34567; 84547895566; four@mail.ru\n",
    "# 6; 34567; 89087545678; five@mail.ru\n",
    "\n",
    "awesome_result_small_data = all_bounded_data(small_data, small_investigation)\n",
    "\n",
    "write_data(awesome_result_small_data)"
   ]
  }
 ],
 "metadata": {
  "kernelspec": {
   "display_name": "Python 3",
   "language": "python",
   "name": "python3"
  },
  "language_info": {
   "codemirror_mode": {
    "name": "ipython",
    "version": 3
   },
   "file_extension": ".py",
   "mimetype": "text/x-python",
   "name": "python",
   "nbconvert_exporter": "python",
   "pygments_lexer": "ipython3",
   "version": "3.8.8"
  }
 },
 "nbformat": 4,
 "nbformat_minor": 5
}
